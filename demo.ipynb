{
 "cells": [
  {
   "cell_type": "markdown",
   "id": "68bd36ce",
   "metadata": {},
   "source": [
    "## Приложение 2. Демонстрация работы программы"
   ]
  },
  {
   "cell_type": "markdown",
   "id": "83a2ff36",
   "metadata": {},
   "source": [
    "### Часть 1. Шифр простой замены"
   ]
  },
  {
   "cell_type": "code",
   "execution_count": 1,
   "id": "91a3cb01",
   "metadata": {
    "scrolled": false
   },
   "outputs": [
    {
     "name": "stdout",
     "output_type": "stream",
     "text": [
      "total 24\r\n",
      "-rw-r--r-- 1 evgeny evgeny 7519 May 18 19:24 demo.ipynb\r\n",
      "drwxr-xr-x 2 evgeny evgeny 4096 May 18 18:48 __pycache__\r\n",
      "-rw-r--r-- 1 evgeny evgeny 7998 May 18 18:44 simple_cipher.py\r\n",
      "drwxr-xr-x 4 evgeny evgeny 4096 May 17 14:52 venv\r\n"
     ]
    }
   ],
   "source": [
    "# Програма шифра простой замены реализована \n",
    "# в модуле simple_cipher классе SimpleCipher\n",
    "\n",
    "!ls -l"
   ]
  },
  {
   "cell_type": "code",
   "execution_count": 2,
   "id": "ef2e678c",
   "metadata": {},
   "outputs": [],
   "source": [
    "# Импортирую класс для демонстрации его работы\n",
    "\n",
    "from simple_cipher import SimpleCipher"
   ]
  },
  {
   "cell_type": "code",
   "execution_count": 3,
   "id": "ad06c3cf",
   "metadata": {},
   "outputs": [
    {
     "data": {
      "text/plain": [
       "'abcdefghijklmnopqrstuvwxyzABCDEFGHIJKLMNOPQRSTUVWXYZ0123456789!\"#$%&\\'()*+,-./:;<=>?@[\\\\]^_`{|}~ '"
      ]
     },
     "execution_count": 3,
     "metadata": {},
     "output_type": "execute_result"
    }
   ],
   "source": [
    "# Объявлю объект класса и выведу на экран его атрибуты\n",
    "\n",
    "encryptor = SimpleCipher()\n",
    "\n",
    "# Алфавит шифрования\n",
    "encryptor.alphabet"
   ]
  },
  {
   "cell_type": "code",
   "execution_count": 4,
   "id": "ce7f3a1b",
   "metadata": {},
   "outputs": [
    {
     "data": {
      "text/plain": [
       "95"
      ]
     },
     "execution_count": 4,
     "metadata": {},
     "output_type": "execute_result"
    }
   ],
   "source": [
    "# Модуль алгоритма шифрования\n",
    "encryptor.module"
   ]
  },
  {
   "cell_type": "code",
   "execution_count": 5,
   "id": "34fc19bc",
   "metadata": {},
   "outputs": [
    {
     "name": "stdout",
     "output_type": "stream",
     "text": [
      "[[29, 44, 65, 31, 48, 4, 92, 84, 10, 37, 90, 9, 66, 93, 25, 17, 47, 35, 33, 20, 23, 19, 63, 30, 24, 75, 68, 27, 1, 62, 59, 76, 7, 50, 16, 0, 5, 26, 22, 8, 85, 80, 54, 74, 89, 39, 36, 57, 55, 18, 40, 69, 43, 28, 86, 71, 91, 6, 78, 87, 12, 41, 15, 34, 56, 70, 58, 52, 21, 2, 60, 82, 67, 45, 49, 53, 11, 88, 73, 13, 79, 42, 46, 64, 61, 38, 94, 77, 83, 72, 14, 81, 51, 32, 3], [35, 28, 69, 94, 5, 36, 57, 32, 39, 11, 8, 76, 60, 79, 90, 62, 34, 15, 49, 21, 19, 68, 38, 20, 24, 14, 37, 27, 53, 0, 23, 3, 93, 18, 63, 17, 46, 9, 85, 45, 50, 61, 81, 52, 1, 73, 82, 16, 4, 74, 33, 92, 67, 75, 42, 48, 64, 47, 66, 30, 70, 84, 29, 22, 83, 2, 12, 72, 26, 51, 65, 55, 89, 78, 43, 25, 31, 87, 58, 80, 41, 91, 71, 88, 7, 40, 54, 59, 77, 44, 10, 56, 6, 13, 86]]\n"
     ]
    }
   ],
   "source": [
    "# Так как классу не был передан ключ шифрования (Таблица замены)\n",
    "# то объект создался с ключом по-умолчанию\n",
    "print(encryptor.secret_key)"
   ]
  },
  {
   "cell_type": "code",
   "execution_count": 6,
   "id": "ef9cfabd",
   "metadata": {},
   "outputs": [
    {
     "name": "stdout",
     "output_type": "stream",
     "text": [
      "[89, 18, 80, 1, 8, 28, 70, 64, 75, 71, 36, 87, 65, 93, 10, 12, 63, 0, 74, 39, 67, 83, 9, 15, 57, 73, 47, 4, 54, 56, 19, 55, 21, 26, 24, 50, 94, 7, 20, 40, 42, 17, 53, 60, 58, 81, 51, 62, 59, 2, 41, 49, 92, 48, 35, 33, 38, 16, 43, 82, 34, 23, 72, 77, 68, 69, 45, 29, 6, 27, 13, 14, 44, 5, 3, 25, 88, 52, 78, 11, 22, 61, 76, 79, 37, 66, 86, 85, 46, 30, 31, 32, 91, 84, 90]\n"
     ]
    }
   ],
   "source": [
    "# Создам новый ключ (таблицу замены) и передам \n",
    "# его объекту класса для шифрования\n",
    "\n",
    "import random\n",
    "\n",
    "# Вот например таблица случайных размещений чисел от 0 до модуля\n",
    "random_nums = random.sample(range(encryptor.module), encryptor.module)\n",
    "print(random_nums)"
   ]
  },
  {
   "cell_type": "code",
   "execution_count": 7,
   "id": "e59914b6",
   "metadata": {},
   "outputs": [
    {
     "name": "stdout",
     "output_type": "stream",
     "text": [
      "[17, 3, 49, 74, 27, 73, 68, 37, 4, 22, 14, 79, 15, 70, 71, 23, 57, 41, 1, 30, 38, 32, 80, 61, 34, 75, 33, 69, 5, 67, 89, 90, 91, 55, 60, 54, 10, 84, 56, 19, 39, 50, 40, 58, 72, 66, 88, 26, 53, 51, 35, 46, 77, 42, 28, 31, 29, 24, 44, 48, 43, 81, 47, 16, 7, 12, 85, 20, 64, 65, 6, 9, 62, 25, 18, 8, 82, 63, 78, 83, 2, 45, 59, 21, 93, 87, 86, 11, 76, 0, 94, 92, 52, 13, 36]\n"
     ]
    }
   ],
   "source": [
    "# Теперь создан обратный массив random_nums_inv для\n",
    "# более удобного обратного преобразования\n",
    "\n",
    "random_nums_inv = [0 for _ in range(encryptor.module)]\n",
    "\n",
    "for num, i in enumerate(random_nums):\n",
    "    random_nums_inv[i] = num\n",
    "    \n",
    "print(random_nums_inv)"
   ]
  },
  {
   "cell_type": "code",
   "execution_count": 8,
   "id": "d3529df0",
   "metadata": {},
   "outputs": [],
   "source": [
    "# Теперь оба массива можно передать классу SimpleCipher \n",
    "\n",
    "encryptor = SimpleCipher([random_nums, random_nums_inv])"
   ]
  },
  {
   "cell_type": "code",
   "execution_count": 9,
   "id": "a5d97dc1",
   "metadata": {},
   "outputs": [
    {
     "name": "stdout",
     "output_type": "stream",
     "text": [
      "[[89, 18, 80, 1, 8, 28, 70, 64, 75, 71, 36, 87, 65, 93, 10, 12, 63, 0, 74, 39, 67, 83, 9, 15, 57, 73, 47, 4, 54, 56, 19, 55, 21, 26, 24, 50, 94, 7, 20, 40, 42, 17, 53, 60, 58, 81, 51, 62, 59, 2, 41, 49, 92, 48, 35, 33, 38, 16, 43, 82, 34, 23, 72, 77, 68, 69, 45, 29, 6, 27, 13, 14, 44, 5, 3, 25, 88, 52, 78, 11, 22, 61, 76, 79, 37, 66, 86, 85, 46, 30, 31, 32, 91, 84, 90], [17, 3, 49, 74, 27, 73, 68, 37, 4, 22, 14, 79, 15, 70, 71, 23, 57, 41, 1, 30, 38, 32, 80, 61, 34, 75, 33, 69, 5, 67, 89, 90, 91, 55, 60, 54, 10, 84, 56, 19, 39, 50, 40, 58, 72, 66, 88, 26, 53, 51, 35, 46, 77, 42, 28, 31, 29, 24, 44, 48, 43, 81, 47, 16, 7, 12, 85, 20, 64, 65, 6, 9, 62, 25, 18, 8, 82, 63, 78, 83, 2, 45, 59, 21, 93, 87, 86, 11, 76, 0, 94, 92, 52, 13, 36]]\n"
     ]
    }
   ],
   "source": [
    "# Проверим что класс принял новый ключ для шифрования данных\n",
    "\n",
    "print(encryptor.secret_key)"
   ]
  },
  {
   "cell_type": "code",
   "execution_count": 10,
   "id": "59b91fd6",
   "metadata": {},
   "outputs": [
    {
     "data": {
      "text/plain": [
       "'y{#`@i{`{4ai`$+'"
      ]
     },
     "execution_count": 10,
     "metadata": {},
     "output_type": "execute_result"
    }
   ],
   "source": [
    "# Кажется что всё правильно! \n",
    "# Приступим к зашифрованию\n",
    "\n",
    "# Определяем текст для шифрования \n",
    "\n",
    "open_text = \"I have a Dream!\"\n",
    "\n",
    "# Шифруем\n",
    "encrypted_text = encryptor.encrypt(open_text)\n",
    "encrypted_text"
   ]
  },
  {
   "cell_type": "code",
   "execution_count": 11,
   "id": "4173fdc9",
   "metadata": {},
   "outputs": [
    {
     "name": "stdout",
     "output_type": "stream",
     "text": [
      "I have a Dream!\n"
     ]
    },
    {
     "data": {
      "text/plain": [
       "True"
      ]
     },
     "execution_count": 11,
     "metadata": {},
     "output_type": "execute_result"
    }
   ],
   "source": [
    "# Расшифруем\n",
    "decrypted_text = encryptor.decrypt(encrypted_text)\n",
    "print(decrypted_text)\n",
    "bool(decrypted_text == open_text)"
   ]
  },
  {
   "cell_type": "code",
   "execution_count": 12,
   "id": "df92c78c",
   "metadata": {},
   "outputs": [
    {
     "data": {
      "text/plain": [
       "'4&${-m.ak{-miak+'"
      ]
     },
     "execution_count": 12,
     "metadata": {},
     "output_type": "execute_result"
    }
   ],
   "source": [
    "# Определяем еще один текст для шифрования \n",
    "\n",
    "open_text = \"Dum spiro spero!\"\n",
    "\n",
    "# Зашифрую на тех же ключах\n",
    "encrypted_text = encryptor.encrypt(open_text)\n",
    "encrypted_text"
   ]
  },
  {
   "cell_type": "code",
   "execution_count": 13,
   "id": "1e549060",
   "metadata": {},
   "outputs": [
    {
     "name": "stdout",
     "output_type": "stream",
     "text": [
      "Dum spiro spero!\n"
     ]
    },
    {
     "data": {
      "text/plain": [
       "True"
      ]
     },
     "execution_count": 13,
     "metadata": {},
     "output_type": "execute_result"
    }
   ],
   "source": [
    "# Расшифруем\n",
    "decrypted_text = encryptor.decrypt(encrypted_text)\n",
    "print(decrypted_text)\n",
    "bool(decrypted_text == open_text)"
   ]
  },
  {
   "cell_type": "markdown",
   "id": "76ce0842",
   "metadata": {},
   "source": [
    "### Часть 2. Аффинный шифр"
   ]
  },
  {
   "cell_type": "code",
   "execution_count": 14,
   "id": "0ad4cc4a",
   "metadata": {},
   "outputs": [
    {
     "data": {
      "text/plain": [
       "'abcdefghijklmnopqrstuvwxyzABCDEFGHIJKLMNOPQRSTUVWXYZ0123456789!\"#$%&\\'()*+,-./:;<=>?@[\\\\]^_`{|}~ '"
      ]
     },
     "execution_count": 14,
     "metadata": {},
     "output_type": "execute_result"
    }
   ],
   "source": [
    "# Программа аффинного шифра реализована \n",
    "# в модуле simple_cipher классе AffineCipher\n",
    "\n",
    "from simple_cipher import AffineCipher\n",
    "\n",
    "# Объявлю объект класса и выведу на экран его атрибуты\n",
    "\n",
    "encryptor = AffineCipher()\n",
    "\n",
    "# Алфавит шифрования класс AffineCipher унаследовал от SimpleCipher\n",
    "# как впрочем и все остальные его атрибуты\n",
    "\n",
    "encryptor.alphabet"
   ]
  },
  {
   "cell_type": "code",
   "execution_count": 15,
   "id": "111cec45",
   "metadata": {},
   "outputs": [
    {
     "data": {
      "text/plain": [
       "95"
      ]
     },
     "execution_count": 15,
     "metadata": {},
     "output_type": "execute_result"
    }
   ],
   "source": [
    "# В том числе и модуль\n",
    "encryptor.module"
   ]
  },
  {
   "cell_type": "code",
   "execution_count": 16,
   "id": "de85248f",
   "metadata": {},
   "outputs": [
    {
     "data": {
      "text/plain": [
       "(36, 87)"
      ]
     },
     "execution_count": 16,
     "metadata": {},
     "output_type": "execute_result"
    }
   ],
   "source": [
    "# А вот ключ шифрования тут другой\n",
    "# В аффинном шифровании ключ - это коэффициенты a, b\n",
    "# необходимые для аффинного преобразрования ax + b, \n",
    "# где x - это закодированный символ, например его\n",
    "# порядковый номер в принятом алфавите\n",
    "\n",
    "# Так как ключ не был передан классу при его объявлении\n",
    "# то он был автоматически сгененерирован. \n",
    "\n",
    "encryptor.secret_key"
   ]
  },
  {
   "cell_type": "code",
   "execution_count": 17,
   "id": "c4b2de31",
   "metadata": {},
   "outputs": [
    {
     "data": {
      "text/plain": [
       "(62, 74)"
      ]
     },
     "execution_count": 17,
     "metadata": {},
     "output_type": "execute_result"
    }
   ],
   "source": [
    "# Также ключ шифрования можно передать снаружи\n",
    "\n",
    "encryptor = AffineCipher((62, 74))\n",
    "encryptor.secret_key"
   ]
  },
  {
   "cell_type": "code",
   "execution_count": 18,
   "id": "7c83308a",
   "metadata": {},
   "outputs": [
    {
     "data": {
      "text/plain": [
       "'}p||mPLmP-iDx'"
      ]
     },
     "execution_count": 18,
     "metadata": {},
     "output_type": "execute_result"
    }
   ],
   "source": [
    "# Попробуем зашифровать какой-то текст\n",
    "# Определяем еще один текст для шифрования \n",
    "\n",
    "open_text = \"I'll be back!\"\n",
    "\n",
    "# Зашифрую на тех же ключах\n",
    "encrypted_text = encryptor.encrypt(open_text)\n",
    "encrypted_text"
   ]
  },
  {
   "cell_type": "code",
   "execution_count": 19,
   "id": "77ac75c6",
   "metadata": {},
   "outputs": [
    {
     "name": "stdout",
     "output_type": "stream",
     "text": [
      "I'll be back!\n"
     ]
    },
    {
     "data": {
      "text/plain": [
       "True"
      ]
     },
     "execution_count": 19,
     "metadata": {},
     "output_type": "execute_result"
    }
   ],
   "source": [
    "# Расшифруем\n",
    "decrypted_text = encryptor.decrypt(encrypted_text)\n",
    "print(decrypted_text)\n",
    "bool(decrypted_text == open_text)"
   ]
  },
  {
   "cell_type": "markdown",
   "id": "a56b2a68",
   "metadata": {},
   "source": [
    "### Часть 3. Аффинный рекуррентный шифр"
   ]
  },
  {
   "cell_type": "code",
   "execution_count": 20,
   "id": "ca363e16",
   "metadata": {},
   "outputs": [
    {
     "data": {
      "text/plain": [
       "'abcdefghijklmnopqrstuvwxyzABCDEFGHIJKLMNOPQRSTUVWXYZ0123456789!\"#$%&\\'()*+,-./:;<=>?@[\\\\]^_`{|}~ '"
      ]
     },
     "execution_count": 20,
     "metadata": {},
     "output_type": "execute_result"
    }
   ],
   "source": [
    "# Программа аффинного рекуррентного шифра реализована \n",
    "# в модуле simple_cipher классе AffineRecurrentCipher\n",
    "\n",
    "from simple_cipher import AffineRecurrentCipher\n",
    "\n",
    "# Объявлю объект класса и выведу на экран его атрибуты\n",
    "\n",
    "encryptor = AffineRecurrentCipher()\n",
    "\n",
    "# Алфавит шифрования класс AffineRecurrentCipher унаследовал от AffineCipher\n",
    "# как впрочем и все остальные его атрибуты\n",
    "\n",
    "encryptor.alphabet"
   ]
  },
  {
   "cell_type": "code",
   "execution_count": 21,
   "id": "7d0bc922",
   "metadata": {},
   "outputs": [
    {
     "data": {
      "text/plain": [
       "95"
      ]
     },
     "execution_count": 21,
     "metadata": {},
     "output_type": "execute_result"
    }
   ],
   "source": [
    "# В том числе и модуль\n",
    "encryptor.module"
   ]
  },
  {
   "cell_type": "code",
   "execution_count": 22,
   "id": "bc041ace",
   "metadata": {},
   "outputs": [
    {
     "data": {
      "text/plain": [
       "[(3, 52), (91, 18)]"
      ]
     },
     "execution_count": 22,
     "metadata": {},
     "output_type": "execute_result"
    }
   ],
   "source": [
    "# Но для зашифрования и расшифрования аффинный рекуррентный шифр\n",
    "# использует другие ключи. У него их изначально два, но на \n",
    "# каждом шаге шифрования (начиная со второго блока) генерируется \n",
    "# новый на основе двух предыдущих\n",
    "\n",
    "encryptor.secret_keys"
   ]
  },
  {
   "cell_type": "code",
   "execution_count": 23,
   "id": "43ec29d2",
   "metadata": {},
   "outputs": [
    {
     "data": {
      "text/plain": [
       "[(39, 54), (18, 46)]"
      ]
     },
     "execution_count": 23,
     "metadata": {},
     "output_type": "execute_result"
    }
   ],
   "source": [
    "# Чтобы не пользоваться ключами по-умолчанию алгоритму можно \n",
    "# передать свои ключи, например вот так:\n",
    "\n",
    "encryptor = AffineRecurrentCipher((39, 54), (18, 46))\n",
    "encryptor.secret_keys"
   ]
  },
  {
   "cell_type": "code",
   "execution_count": 24,
   "id": "1300ddfc",
   "metadata": {},
   "outputs": [
    {
     "data": {
      "text/plain": [
       "\"qUMYMY4!{Q2_5A'!a,rd\""
      ]
     },
     "execution_count": 24,
     "metadata": {},
     "output_type": "execute_result"
    }
   ],
   "source": [
    "# Попробуем зашифровать какой-то текст\n",
    "# Определяем еще один текст для шифрования \n",
    "\n",
    "open_text = \"May 4th be with you!\"\n",
    "\n",
    "# Зашифрую на тех же ключах\n",
    "encrypted_text = encryptor.encrypt(open_text)\n",
    "encrypted_text"
   ]
  },
  {
   "cell_type": "code",
   "execution_count": 25,
   "id": "ab6c241a",
   "metadata": {},
   "outputs": [
    {
     "name": "stdout",
     "output_type": "stream",
     "text": [
      "May 4th be with you!\n"
     ]
    },
    {
     "data": {
      "text/plain": [
       "True"
      ]
     },
     "execution_count": 25,
     "metadata": {},
     "output_type": "execute_result"
    }
   ],
   "source": [
    "# Расшифруем\n",
    "decrypted_text = encryptor.decrypt(encrypted_text)\n",
    "print(decrypted_text)\n",
    "bool(decrypted_text == open_text)"
   ]
  },
  {
   "cell_type": "code",
   "execution_count": null,
   "id": "580eec59",
   "metadata": {},
   "outputs": [],
   "source": []
  }
 ],
 "metadata": {
  "kernelspec": {
   "display_name": "Python 3 (ipykernel)",
   "language": "python",
   "name": "python3"
  },
  "language_info": {
   "codemirror_mode": {
    "name": "ipython",
    "version": 3
   },
   "file_extension": ".py",
   "mimetype": "text/x-python",
   "name": "python",
   "nbconvert_exporter": "python",
   "pygments_lexer": "ipython3",
   "version": "3.11.2"
  }
 },
 "nbformat": 4,
 "nbformat_minor": 5
}
